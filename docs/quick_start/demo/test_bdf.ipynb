{
 "cells": [
  {
   "cell_type": "markdown",
   "metadata": {},
   "source": [
    "# test_bdf demo\n",
    "\n",
    "In this demo, we'll show off test_bdf"
   ]
  },
  {
   "cell_type": "code",
   "execution_count": 1,
   "metadata": {},
   "outputs": [],
   "source": [
    "from IPython.display import HTML as html_print\n",
    "from pyNastran.bdf.bdf import BDF, read_bdf, CaseControlDeck\n"
   ]
  },
  {
   "cell_type": "code",
   "execution_count": 20,
   "metadata": {},
   "outputs": [
    {
     "name": "stdout",
     "output_type": "stream",
     "text": [
      "TRIM          42      .8    100.       Z     2.5\n",
      "\n",
      "{42: TRIM          42      .8    100.       Z     2.5\n",
      "}\n"
     ]
    },
    {
     "data": {
      "text/html": [
       "<text style=color:blue>DEBUG:   write_mesh.py:145            ---starting BDF.write_bdf of junk.bdf---\n",
       "</text>"
      ],
      "text/plain": [
       "<IPython.core.display.HTML object>"
      ]
     },
     "metadata": {},
     "output_type": "display_data"
    },
    {
     "name": "stdout",
     "output_type": "stream",
     "text": [
      "$pyNastran: version=msc\n",
      "$pyNastran: punch=False\n",
      "$pyNastran: encoding=utf-8\n",
      "$pyNastran: nnodes=4\n",
      "$pyNastran: nelements=5\n",
      "$EXECUTIVE CONTROL DECK\n",
      "SOL 144\n",
      "CEND\n",
      "$CASE CONTROL DECK\n",
      "DESOBJ = 102\n",
      "DESSUB = 10000\n",
      "SUBCASE 1\n",
      "    ANALYSIS = SAERO\n",
      "    LOAD = 1\n",
      "    METHOD = 42\n",
      "    SPC = 1\n",
      "BEGIN BULK\n",
      "$NODES\n",
      "GRID           1              0.      0.      0.\n",
      "GRID           2              1.      0.      0.\n",
      "GRID           3              1.      1.      0.\n",
      "GRID           4              0.      1.      0.\n",
      "$ELEMENTS\n",
      "CBAR          10     100       1       2      0.      0.      1.\n",
      "CBAR          11     100       2       3      0.      0.      1.\n",
      "CBAR          12     100       3       4      0.      0.      1.\n",
      "CBAR          13     100       4       1      0.      0.      1.\n",
      "CQUAD4        15     101       1       2       3       4\n",
      "$PROPERTIES\n",
      "PBARL        100    1000             BOX\n",
      "              3.      3.      1.      1.      0.\n",
      "PSHELL       101    1000      .1    1000            1000\n",
      "$MATERIALS\n",
      "MAT1        1000    3.+7              .3\n",
      "$LOADS\n",
      "$ load\n",
      "PLOAD4         1      15      1.\n",
      "               0      0.      0.      0.    SURF\n",
      "PLOAD1         1      10      FZ      LE      0.      1.      0.      1.\n",
      "$DYNAMIC\n",
      "EIGRL         42                      42\n",
      "$STATIC AERO\n",
      "TRIM          42      .8    100.       Z     2.5\n",
      "$SPCs\n",
      "SPC1           1  123456       1\n",
      "$OPTIMIZATION\n",
      "DCONSTR    10000     101 -35000.  35000.\n",
      "DESVAR         1   DIM1       .1  .00001\n",
      "DESVAR         2   DIM2       .2  .00001\n",
      "DESVAR         3   DIM3       .3  .00001\n",
      "DESVAR         4   DIM4       .4  .00001\n",
      "DESVAR         5    DV5       .1  .00001\n",
      "DRESP1       100   resp1  STRESS  PSHELL               9             101\n",
      "DRESP1       101   resp1  STRESS  PSHELL              17             101\n",
      "DRESP1       102      WT  WEIGHT                                     ALL\n",
      "DVPREL1     1000  PSHELL     101       T\n",
      "               1      1.\n",
      "----------------------------------------------------------------------------------------------------\n"
     ]
    },
    {
     "name": "stderr",
     "output_type": "stream",
     "text": [
      "c:\\python37\\lib\\site-packages\\IPython\\utils\\_process_win32.py:131: ResourceWarning: unclosed file <_io.BufferedWriter name=5>\n",
      "  return process_handler(cmd, _system_body)\n",
      "ResourceWarning: Enable tracemalloc to get the object allocation traceback\n",
      "c:\\python37\\lib\\site-packages\\IPython\\utils\\_process_win32.py:131: ResourceWarning: unclosed file <_io.BufferedReader name=6>\n",
      "  return process_handler(cmd, _system_body)\n",
      "ResourceWarning: Enable tracemalloc to get the object allocation traceback\n",
      "c:\\python37\\lib\\site-packages\\IPython\\utils\\_process_win32.py:131: ResourceWarning: unclosed file <_io.BufferedReader name=7>\n",
      "  return process_handler(cmd, _system_body)\n",
      "ResourceWarning: Enable tracemalloc to get the object allocation traceback\n"
     ]
    }
   ],
   "source": [
    "model = BDF()\n",
    "\n",
    "# add_grid(nid, xyz, cp=0, cd=0, ps='', seid=0)\n",
    "model.add_grid(1, [0., 0., 0.])\n",
    "model.add_grid(2, [1., 0., 0.])\n",
    "model.add_grid(3, [1., 1., 0.])\n",
    "model.add_grid(4, [0., 1., 0.])\n",
    "\n",
    "eid = 10\n",
    "pid = 100\n",
    "mid = 1000\n",
    "# add_cbar(eid, pid, nids, x, g0, offt='GGG', pa=0, pb=0, wa=None, wb=None)\n",
    "model.add_cbar(eid,   pid, [1, 2], [0., 0., 1.], None, offt='GGG')\n",
    "model.add_cbar(eid+1, pid, [2, 3], [0., 0., 1.], None, offt='GGG')\n",
    "model.add_cbar(eid+2, pid, [3, 4], [0., 0., 1.], None, offt='GGG')\n",
    "model.add_cbar(eid+3, pid, [4, 1], [0., 0., 1.], None, offt='GGG')\n",
    "\n",
    "eid_cquad4 = 15\n",
    "pid_pshell = 101\n",
    "# add_pshell(pid, mid1=None, t=None, mid2=None, twelveIt3=1.0,\n",
    "#            mid3=None, tst=0.833333, \n",
    "#            nsm=0.0, z1=None, z2=None, mid4=None)\n",
    "model.add_pshell(pid_pshell, mid1=mid, t=0.1, mid2=mid, mid3=mid)\n",
    "model.add_cquad4(eid_cquad4, pid_pshell, [1, 2, 3, 4])\n",
    "\n",
    "dim = [3., 3., 1., 1.] # TODO: should be [1., 2., 3., 4.]\n",
    "# add_pbarl(pid, mid, Type, dim, group='MSCBML0', nsm=0.0)\n",
    "pbarl = model.add_pbarl(pid, mid, 'BOX', dim, nsm=0.0)\n",
    "pbarl.validate()\n",
    "\n",
    "E = 3.e7\n",
    "G = None\n",
    "nu = 0.3\n",
    "mat = model.add_mat1(mid, E, G, nu)\n",
    "\n",
    "spc_id = 1\n",
    "nids = 1\n",
    "# add_spc1(conid, components, nodes\n",
    "model.add_spc1(spc_id, 123456, nids)\n",
    "\n",
    "\n",
    "dresp_id = 100\n",
    "label = 'resp1'\n",
    "response_type = 'STRESS'\n",
    "property_type = 'PSHELL'\n",
    "pid = 3\n",
    "atta = 9 # von mises upper surface stress\n",
    "region = None\n",
    "attb = None\n",
    "atti = [pid_pshell]\n",
    "# add_dresp1(dresp_id, label, response_type, property_type, region, atta, attb, atti)\n",
    "model.add_dresp1(dresp_id, label, response_type, property_type, region, atta, attb, atti)\n",
    "\n",
    "dresp_id += 1\n",
    "atta = 17 # von mises lower surface stress\n",
    "model.add_dresp1(dresp_id, label, response_type, property_type, region, atta, attb, atti)\n",
    "\n",
    "# add_dconstr(oid, dresp_id, lid=-1e+20, uid=1e+20, lowfq=0.0, highfq=1e+20)\n",
    "dconstr_id = 10000\n",
    "model.add_dconstr(dconstr_id, dresp_id, lid=-35000., uid=35000.)\n",
    "\n",
    "dresp_id += 1\n",
    "dresp = model.add_dresp1(dresp_id, 'WT', 'WEIGHT', None, None, None, None, None)\n",
    "dresp.validate()\n",
    "\n",
    "oid = 1000\n",
    "dvids = 1\n",
    "coeffs = 1.\n",
    "# add_dvprel1(oid, prop_type, pid, pname_fid, dvids, coeffs,\n",
    "#             p_min=None, p_max=1e+20, c0=0.0)\n",
    "model.add_dvprel1(oid, 'PSHELL', pid_pshell, 'T', dvids, coeffs)\n",
    "\n",
    "# add_desvar(desvar_id, label, xinit, xlb=-1e+20, xub=1e+20,\n",
    "#            delx=None, ddval=None)\n",
    "model.add_desvar(1, 'DIM1', 0.1, xlb=1e-5)\n",
    "model.add_desvar(2, 'DIM2', 0.2, xlb=1e-5)\n",
    "model.add_desvar(3, 'DIM3', 0.3, xlb=1e-5)\n",
    "model.add_desvar(4, 'DIM4', 0.4, xlb=1e-5)\n",
    "model.add_desvar(5, 'DV5', 0.1, xlb=1e-5)\n",
    "\n",
    "#model.add_dlink(6)\n",
    "\n",
    "eid = 10 # TODO: remove\n",
    "load_id = 1\n",
    "# add_pload4(sid, eids, pressures, g1=None, g34=None,\n",
    "#            cid=0, nvector=None, surf_or_line='SURF', line_load_dir='NORM')\n",
    "pload4 = model.add_pload4(load_id, [eid_cquad4], [1., None, None, None], \n",
    "                          comment=' load')\n",
    "#print(pload4.get_stats())\n",
    "\n",
    "eid = 10 # TODO: should be 100\n",
    "scale = 'LE' # TODO: should be 100.\n",
    "# add_pload1(sid, eid, load_type, scale, x1, p1, x2=None, p2=None)\n",
    "model.add_pload1(load_id, eid, 'FZ', scale, 0., 1.)  # TODO: change atti to None\n",
    "\n",
    "# add_eigrl(sid, v1=None, v2=None, nd=None, msglvl=0, maxset=None, shfscl=None,\n",
    "#           norm=None, options=None, values=None)\n",
    "eigrl = model.add_eigrl(42, nd=42)\n",
    "\n",
    "model.sol = 103  # start=103\n",
    "cc = CaseControlDeck([\n",
    "    'DESOBJ = 102',  # DRESP1\n",
    "    'DESSUB = %s' % dconstr_id,  # DCONSTR\n",
    "    'SUBCASE 1',\n",
    "    '  METHOD = 42',  # TODO: remove\n",
    "    '  LOAD = %s' % load_id,  # TODO: remove\n",
    "    '  SPC = %s' % spc_id,\n",
    "    #'  TRIM = 42',  # TODO: add\n",
    "    'ANALYSIS = SAERO',\n",
    "])\n",
    "#print(cc)\n",
    "model.case_control_deck = cc\n",
    "model.validate()\n",
    "\n",
    "# rerun between each change\n",
    "# 1. change SOL=103 -> SOL=144\n",
    "model.sol = 144\n",
    "# 2. add the trim in the case control deck\n",
    "#help(model.add_trim)\n",
    "mach = 0.8\n",
    "q = 100.\n",
    "labels = ['Z']\n",
    "uxs = [2.5]\n",
    "trim = model.add_trim(42, mach, q, labels, uxs, aeqr=1.0, trim_type=1)\n",
    "print(trim)\n",
    "# 3. add a trim card\n",
    "# x. change to SOL=200\n",
    "print(model.trims)\n",
    "model.write_bdf('junk.bdf')\n",
    "!cat junk.bdf\n",
    "print('----------------------------------------------------------------------------------------------------')"
   ]
  },
  {
   "cell_type": "code",
   "execution_count": 22,
   "metadata": {},
   "outputs": [
    {
     "data": {
      "text/html": [
       "<text style=color:blue>DEBUG:   write_mesh.py:145            ---starting BDF.write_bdf of junk.bdf---\n",
       "</text>"
      ],
      "text/plain": [
       "<IPython.core.display.HTML object>"
      ]
     },
     "metadata": {},
     "output_type": "display_data"
    },
    {
     "name": "stdout",
     "output_type": "stream",
     "text": [
      "debug = False\n",
      "bdf_model = junk.bdf\n"
     ]
    },
    {
     "data": {
      "text/html": [
       "<text style=color:green>INFO:    test_bdf.py:374              starting fem1\n",
       "</text>"
      ],
      "text/plain": [
       "<IPython.core.display.HTML object>"
      ]
     },
     "metadata": {},
     "output_type": "display_data"
    },
    {
     "data": {
      "text/html": [
       "<text style=color:green>INFO:    test_bdf.py:841              starting fem2\n",
       "</text>"
      ],
      "text/plain": [
       "<IPython.core.display.HTML object>"
      ]
     },
     "metadata": {},
     "output_type": "display_data"
    },
    {
     "data": {
      "text/html": [
       "<text style=color:orange>WARNING: test_bdf.py:863              PARAM,POST,0 is not supported by the OP2 reader\n",
       "</text>"
      ],
      "text/plain": [
       "<IPython.core.display.HTML object>"
      ]
     },
     "metadata": {},
     "output_type": "display_data"
    },
    {
     "data": {
      "text/html": [
       "<text style=color:red>ERROR:   test_bdf.py:1162             A TRIM or DIVERG card is required for STATIC AERO - SOL 144\n",
       "SUBCASE 1\n",
       "    ANALYSIS = SAERO\n",
       "    DESOBJ = 102\n",
       "    DESSUB = 10000\n",
       "    LOAD = 1\n",
       "    METHOD = 42\n",
       "    SPC = 1\n",
       "\n",
       "</text>"
      ],
      "text/plain": [
       "<IPython.core.display.HTML object>"
      ]
     },
     "metadata": {},
     "output_type": "display_data"
    },
    {
     "ename": "RuntimeError",
     "evalue": "A TRIM or DIVERG card is required for STATIC AERO - SOL 144\nSUBCASE 1\n    ANALYSIS = SAERO\n    DESOBJ = 102\n    DESSUB = 10000\n    LOAD = 1\n    METHOD = 42\n    SPC = 1\n",
     "output_type": "error",
     "traceback": [
      "\u001b[1;31m---------------------------------------------------------------------------\u001b[0m",
      "\u001b[1;31mRuntimeError\u001b[0m                              Traceback (most recent call last)",
      "\u001b[1;32m<ipython-input-22-746e54da5a3e>\u001b[0m in \u001b[0;36m<module>\u001b[1;34m\u001b[0m\n\u001b[0;32m      1\u001b[0m \u001b[1;32mfrom\u001b[0m \u001b[0mpyNastran\u001b[0m\u001b[1;33m.\u001b[0m\u001b[0mbdf\u001b[0m\u001b[1;33m.\u001b[0m\u001b[0mtest\u001b[0m\u001b[1;33m.\u001b[0m\u001b[0mtest_bdf\u001b[0m \u001b[1;32mimport\u001b[0m \u001b[0mrun_bdf\u001b[0m \u001b[1;32mas\u001b[0m \u001b[0mtest_bdf\u001b[0m\u001b[1;33m\u001b[0m\u001b[1;33m\u001b[0m\u001b[0m\n\u001b[0;32m      2\u001b[0m \u001b[0mmodel\u001b[0m\u001b[1;33m.\u001b[0m\u001b[0mwrite_bdf\u001b[0m\u001b[1;33m(\u001b[0m\u001b[1;34m'junk.bdf'\u001b[0m\u001b[1;33m)\u001b[0m\u001b[1;33m\u001b[0m\u001b[1;33m\u001b[0m\u001b[0m\n\u001b[1;32m----> 3\u001b[1;33m \u001b[0mtest_bdf\u001b[0m\u001b[1;33m(\u001b[0m\u001b[1;34m'.'\u001b[0m\u001b[1;33m,\u001b[0m \u001b[1;34m'junk.bdf'\u001b[0m\u001b[1;33m)\u001b[0m\u001b[1;33m\u001b[0m\u001b[1;33m\u001b[0m\u001b[0m\n\u001b[0m",
      "\u001b[1;32mc:\\nasa\\m4\\formats\\git\\pynastran\\pyNastran\\bdf\\test\\test_bdf.py\u001b[0m in \u001b[0;36mrun_bdf\u001b[1;34m(folder, bdf_filename, debug, xref, check, punch, mesh_form, is_folder, print_stats, encoding, sum_load, size, is_double, hdf5, stop, nastran, post, dynamic_vars, quiet, dumplines, dictsort, run_extract_bodies, run_skin_solids, save_file_structure, nerrors, dev, crash_cards, safe_xref, pickle_obj, stop_on_failure, log)\u001b[0m\n\u001b[0;32m    342\u001b[0m         \u001b[0mpickle_obj\u001b[0m\u001b[1;33m=\u001b[0m\u001b[0mpickle_obj\u001b[0m\u001b[1;33m,\u001b[0m\u001b[1;33m\u001b[0m\u001b[1;33m\u001b[0m\u001b[0m\n\u001b[0;32m    343\u001b[0m         \u001b[0mstop_on_failure\u001b[0m\u001b[1;33m=\u001b[0m\u001b[0mstop_on_failure\u001b[0m\u001b[1;33m,\u001b[0m\u001b[1;33m\u001b[0m\u001b[1;33m\u001b[0m\u001b[0m\n\u001b[1;32m--> 344\u001b[1;33m         \u001b[0mlog\u001b[0m\u001b[1;33m=\u001b[0m\u001b[0mlog\u001b[0m\u001b[1;33m,\u001b[0m\u001b[1;33m\u001b[0m\u001b[1;33m\u001b[0m\u001b[0m\n\u001b[0m\u001b[0;32m    345\u001b[0m     )\n\u001b[0;32m    346\u001b[0m     \u001b[1;32mreturn\u001b[0m \u001b[0mfem1\u001b[0m\u001b[1;33m,\u001b[0m \u001b[0mfem2\u001b[0m\u001b[1;33m,\u001b[0m \u001b[0mdiff_cards\u001b[0m\u001b[1;33m\u001b[0m\u001b[1;33m\u001b[0m\u001b[0m\n",
      "\u001b[1;32mc:\\nasa\\m4\\formats\\git\\pynastran\\pyNastran\\bdf\\test\\test_bdf.py\u001b[0m in \u001b[0;36mrun_and_compare_fems\u001b[1;34m(bdf_model, out_model, debug, xref, check, punch, mesh_form, print_stats, encoding, sum_load, size, is_double, save_file_structure, stop, nastran, post, hdf5, dynamic_vars, quiet, dumplines, dictsort, nerrors, dev, crash_cards, safe_xref, run_extract_bodies, run_skin_solids, pickle_obj, stop_on_failure, log)\u001b[0m\n\u001b[0;32m    412\u001b[0m                         \u001b[0mencoding\u001b[0m\u001b[1;33m=\u001b[0m\u001b[0mencoding\u001b[0m\u001b[1;33m,\u001b[0m \u001b[0mdebug\u001b[0m\u001b[1;33m=\u001b[0m\u001b[0mdebug\u001b[0m\u001b[1;33m,\u001b[0m \u001b[0mquiet\u001b[0m\u001b[1;33m=\u001b[0m\u001b[0mquiet\u001b[0m\u001b[1;33m,\u001b[0m\u001b[1;33m\u001b[0m\u001b[1;33m\u001b[0m\u001b[0m\n\u001b[0;32m    413\u001b[0m                         \u001b[0mierror\u001b[0m\u001b[1;33m=\u001b[0m\u001b[0mierror\u001b[0m\u001b[1;33m,\u001b[0m \u001b[0mnerrors\u001b[0m\u001b[1;33m=\u001b[0m\u001b[0mnerrors\u001b[0m\u001b[1;33m,\u001b[0m\u001b[1;33m\u001b[0m\u001b[1;33m\u001b[0m\u001b[0m\n\u001b[1;32m--> 414\u001b[1;33m                         stop_on_failure=stop_on_failure, log=log)\n\u001b[0m\u001b[0;32m    415\u001b[0m \u001b[1;33m\u001b[0m\u001b[0m\n\u001b[0;32m    416\u001b[0m         diff_cards = compare(fem1, fem2, xref=xref, check=check,\n",
      "\u001b[1;32mc:\\nasa\\m4\\formats\\git\\pynastran\\pyNastran\\bdf\\test\\test_bdf.py\u001b[0m in \u001b[0;36mrun_fem2\u001b[1;34m(bdf_model, out_model, xref, punch, sum_load, size, is_double, mesh_form, safe_xref, encoding, debug, quiet, stop_on_failure, ierror, nerrors, log)\u001b[0m\n\u001b[0;32m    878\u001b[0m                 \u001b[0mfem2\u001b[0m\u001b[1;33m,\u001b[0m \u001b[0mp0\u001b[0m\u001b[1;33m,\u001b[0m \u001b[0msol_base\u001b[0m\u001b[1;33m,\u001b[0m \u001b[0msubcase_keys\u001b[0m\u001b[1;33m,\u001b[0m \u001b[0msubcases\u001b[0m\u001b[1;33m,\u001b[0m \u001b[0msol_200_map\u001b[0m\u001b[1;33m,\u001b[0m\u001b[1;33m\u001b[0m\u001b[1;33m\u001b[0m\u001b[0m\n\u001b[0;32m    879\u001b[0m                 \u001b[0mierror\u001b[0m\u001b[1;33m=\u001b[0m\u001b[0mierror\u001b[0m\u001b[1;33m,\u001b[0m \u001b[0mnerrors\u001b[0m\u001b[1;33m=\u001b[0m\u001b[0mnerrors\u001b[0m\u001b[1;33m,\u001b[0m\u001b[1;33m\u001b[0m\u001b[1;33m\u001b[0m\u001b[0m\n\u001b[1;32m--> 880\u001b[1;33m                 stop_on_failure=stop_on_failure)\n\u001b[0m\u001b[0;32m    881\u001b[0m \u001b[1;33m\u001b[0m\u001b[0m\n\u001b[0;32m    882\u001b[0m     \u001b[1;32mif\u001b[0m \u001b[0mmesh_form\u001b[0m \u001b[1;32mis\u001b[0m \u001b[1;32mnot\u001b[0m \u001b[1;32mNone\u001b[0m\u001b[1;33m:\u001b[0m\u001b[1;33m\u001b[0m\u001b[1;33m\u001b[0m\u001b[0m\n",
      "\u001b[1;32mc:\\nasa\\m4\\formats\\git\\pynastran\\pyNastran\\bdf\\test\\test_bdf.py\u001b[0m in \u001b[0;36mvalidate_case_control\u001b[1;34m(fem2, p0, sol_base, subcase_keys, subcases, unused_sol_200_map, stop_on_failure, ierror, nerrors)\u001b[0m\n\u001b[0;32m    922\u001b[0m         ierror = check_case(\n\u001b[0;32m    923\u001b[0m             \u001b[0msol_base\u001b[0m\u001b[1;33m,\u001b[0m \u001b[0msubcase\u001b[0m\u001b[1;33m,\u001b[0m \u001b[0mfem2\u001b[0m\u001b[1;33m,\u001b[0m \u001b[0mp0\u001b[0m\u001b[1;33m,\u001b[0m \u001b[0misubcase\u001b[0m\u001b[1;33m,\u001b[0m \u001b[0msubcases\u001b[0m\u001b[1;33m,\u001b[0m\u001b[1;33m\u001b[0m\u001b[1;33m\u001b[0m\u001b[0m\n\u001b[1;32m--> 924\u001b[1;33m             ierror=ierror, nerrors=nerrors, stop_on_failure=stop_on_failure)\n\u001b[0m\u001b[0;32m    925\u001b[0m     \u001b[1;32mreturn\u001b[0m \u001b[0mierror\u001b[0m\u001b[1;33m\u001b[0m\u001b[1;33m\u001b[0m\u001b[0m\n\u001b[0;32m    926\u001b[0m \u001b[1;33m\u001b[0m\u001b[0m\n",
      "\u001b[1;32mc:\\nasa\\m4\\formats\\git\\pynastran\\pyNastran\\bdf\\test\\test_bdf.py\u001b[0m in \u001b[0;36mcheck_case\u001b[1;34m(sol, subcase, fem2, p0, isubcase, subcases, ierror, nerrors, stop_on_failure)\u001b[0m\n\u001b[0;32m   1106\u001b[0m \u001b[1;33m\u001b[0m\u001b[0m\n\u001b[0;32m   1107\u001b[0m     \u001b[1;32melif\u001b[0m \u001b[0msol\u001b[0m \u001b[1;33m==\u001b[0m \u001b[1;36m144\u001b[0m\u001b[1;33m:\u001b[0m\u001b[1;33m\u001b[0m\u001b[1;33m\u001b[0m\u001b[0m\n\u001b[1;32m-> 1108\u001b[1;33m         \u001b[0mierror\u001b[0m \u001b[1;33m=\u001b[0m \u001b[0m_check_static_aero_case\u001b[0m\u001b[1;33m(\u001b[0m\u001b[0mfem2\u001b[0m\u001b[1;33m,\u001b[0m \u001b[0mlog\u001b[0m\u001b[1;33m,\u001b[0m \u001b[0msol\u001b[0m\u001b[1;33m,\u001b[0m \u001b[0msubcase\u001b[0m\u001b[1;33m,\u001b[0m \u001b[0mierror\u001b[0m\u001b[1;33m,\u001b[0m \u001b[0mnerrors\u001b[0m\u001b[1;33m)\u001b[0m\u001b[1;33m\u001b[0m\u001b[1;33m\u001b[0m\u001b[0m\n\u001b[0m\u001b[0;32m   1109\u001b[0m     \u001b[1;32melif\u001b[0m \u001b[0msol\u001b[0m \u001b[1;33m==\u001b[0m \u001b[1;36m145\u001b[0m\u001b[1;33m:\u001b[0m\u001b[1;33m\u001b[0m\u001b[1;33m\u001b[0m\u001b[0m\n\u001b[0;32m   1110\u001b[0m         \u001b[0mierror\u001b[0m \u001b[1;33m=\u001b[0m \u001b[0m_check_flutter_case\u001b[0m\u001b[1;33m(\u001b[0m\u001b[0mfem2\u001b[0m\u001b[1;33m,\u001b[0m \u001b[0mlog\u001b[0m\u001b[1;33m,\u001b[0m \u001b[0msol\u001b[0m\u001b[1;33m,\u001b[0m \u001b[0msubcase\u001b[0m\u001b[1;33m,\u001b[0m \u001b[0mierror\u001b[0m\u001b[1;33m,\u001b[0m \u001b[0mnerrors\u001b[0m\u001b[1;33m)\u001b[0m\u001b[1;33m\u001b[0m\u001b[1;33m\u001b[0m\u001b[0m\n",
      "\u001b[1;32mc:\\nasa\\m4\\formats\\git\\pynastran\\pyNastran\\bdf\\test\\test_bdf.py\u001b[0m in \u001b[0;36m_check_static_aero_case\u001b[1;34m(fem2, log, sol, subcase, ierror, nerrors)\u001b[0m\n\u001b[0;32m   1161\u001b[0m             sol, subcase)\n\u001b[0;32m   1162\u001b[0m         \u001b[0mlog\u001b[0m\u001b[1;33m.\u001b[0m\u001b[0merror\u001b[0m\u001b[1;33m(\u001b[0m\u001b[0mmsg\u001b[0m\u001b[1;33m)\u001b[0m\u001b[1;33m\u001b[0m\u001b[1;33m\u001b[0m\u001b[0m\n\u001b[1;32m-> 1163\u001b[1;33m         \u001b[0mierror\u001b[0m \u001b[1;33m=\u001b[0m \u001b[0mstop_if_max_error\u001b[0m\u001b[1;33m(\u001b[0m\u001b[0mmsg\u001b[0m\u001b[1;33m,\u001b[0m \u001b[0mRuntimeError\u001b[0m\u001b[1;33m,\u001b[0m \u001b[0mierror\u001b[0m\u001b[1;33m,\u001b[0m \u001b[0mnerrors\u001b[0m\u001b[1;33m)\u001b[0m\u001b[1;33m\u001b[0m\u001b[1;33m\u001b[0m\u001b[0m\n\u001b[0m\u001b[0;32m   1164\u001b[0m     \u001b[1;32mif\u001b[0m \u001b[0mfem2\u001b[0m\u001b[1;33m.\u001b[0m\u001b[0maeros\u001b[0m \u001b[1;32mis\u001b[0m \u001b[1;32mNone\u001b[0m\u001b[1;33m:\u001b[0m\u001b[1;33m\u001b[0m\u001b[1;33m\u001b[0m\u001b[0m\n\u001b[0;32m   1165\u001b[0m         \u001b[0mmsg\u001b[0m \u001b[1;33m=\u001b[0m \u001b[1;34m'An AEROS card is required for STATIC AERO - SOL %i; AEROS=%s'\u001b[0m \u001b[1;33m%\u001b[0m \u001b[1;33m(\u001b[0m\u001b[0msol\u001b[0m\u001b[1;33m,\u001b[0m \u001b[0mfem2\u001b[0m\u001b[1;33m.\u001b[0m\u001b[0maeros\u001b[0m\u001b[1;33m)\u001b[0m\u001b[1;33m\u001b[0m\u001b[1;33m\u001b[0m\u001b[0m\n",
      "\u001b[1;32mc:\\nasa\\m4\\formats\\git\\pynastran\\pyNastran\\bdf\\test\\test_bdf.py\u001b[0m in \u001b[0;36mstop_if_max_error\u001b[1;34m(msg, error, ierror, nerrors)\u001b[0m\n\u001b[0;32m    954\u001b[0m     \u001b[1;34m\"\"\"if the error count is greater than nerrors, stop\"\"\"\u001b[0m\u001b[1;33m\u001b[0m\u001b[1;33m\u001b[0m\u001b[0m\n\u001b[0;32m    955\u001b[0m     \u001b[1;32mif\u001b[0m \u001b[0mierror\u001b[0m \u001b[1;33m==\u001b[0m \u001b[0mnerrors\u001b[0m\u001b[1;33m:\u001b[0m\u001b[1;33m\u001b[0m\u001b[1;33m\u001b[0m\u001b[0m\n\u001b[1;32m--> 956\u001b[1;33m         \u001b[1;32mraise\u001b[0m \u001b[0merror\u001b[0m\u001b[1;33m(\u001b[0m\u001b[0mmsg\u001b[0m\u001b[1;33m)\u001b[0m\u001b[1;33m\u001b[0m\u001b[1;33m\u001b[0m\u001b[0m\n\u001b[0m\u001b[0;32m    957\u001b[0m     \u001b[0mierror\u001b[0m \u001b[1;33m+=\u001b[0m \u001b[1;36m1\u001b[0m\u001b[1;33m\u001b[0m\u001b[1;33m\u001b[0m\u001b[0m\n\u001b[0;32m    958\u001b[0m     \u001b[1;32mreturn\u001b[0m \u001b[0mierror\u001b[0m\u001b[1;33m\u001b[0m\u001b[1;33m\u001b[0m\u001b[0m\n",
      "\u001b[1;31mRuntimeError\u001b[0m: A TRIM or DIVERG card is required for STATIC AERO - SOL 144\nSUBCASE 1\n    ANALYSIS = SAERO\n    DESOBJ = 102\n    DESSUB = 10000\n    LOAD = 1\n    METHOD = 42\n    SPC = 1\n"
     ]
    }
   ],
   "source": [
    "from pyNastran.bdf.test.test_bdf import run_bdf as test_bdf\n",
    "model.write_bdf('junk.bdf')\n",
    "test_bdf('.', 'junk.bdf')"
   ]
  }
 ],
 "metadata": {
  "kernelspec": {
   "display_name": "Python 3",
   "language": "python",
   "name": "python3"
  },
  "language_info": {
   "codemirror_mode": {
    "name": "ipython",
    "version": 3
   },
   "file_extension": ".py",
   "mimetype": "text/x-python",
   "name": "python",
   "nbconvert_exporter": "python",
   "pygments_lexer": "ipython3",
   "version": "3.7.7"
  }
 },
 "nbformat": 4,
 "nbformat_minor": 2
}
